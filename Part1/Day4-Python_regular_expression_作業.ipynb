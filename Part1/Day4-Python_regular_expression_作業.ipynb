{
 "cells": [
  {
   "cell_type": "markdown",
   "metadata": {
    "colab_type": "text",
    "id": "tTJolmzeBLGr"
   },
   "source": [
    "# 作業目標: 使用python正規表達式對資料進行清洗處理\n",
    "\n",
    "這份作業我們會使用詐欺郵件的文本資料來作為清洗與處理的操作。\n",
    "[資料集](https://www.kaggle.com/rtatman/fraudulent-email-corpus/data#)"
   ]
  },
  {
   "cell_type": "markdown",
   "metadata": {
    "colab_type": "text",
    "id": "vhv0OElTBLGs"
   },
   "source": [
    "### 讀入資料文本\n",
    "因原始文本較大，先使用部份擷取的**sample_emails.txt**來進行練習"
   ]
  },
  {
   "cell_type": "code",
   "execution_count": 1,
   "metadata": {
    "colab": {},
    "colab_type": "code",
    "id": "a0BdDqt1BLGt"
   },
   "outputs": [],
   "source": [
    "#讀取文本資料\n",
    "f = open('sample_emails.txt', 'r')\n",
    "sample_corpus = f.read()\n",
    "f.close()"
   ]
  },
  {
   "cell_type": "code",
   "execution_count": 4,
   "metadata": {
    "colab": {},
    "colab_type": "code",
    "id": "XQbjXNKdBLGx",
    "outputId": "97497027-4c29-4dcf-9cf4-94b0081dac54",
    "scrolled": true
   },
   "outputs": [
    {
     "data": {
      "text/plain": [
       "'From r  Wed Oct 30 21:41:56 2002\\nReturn-Path: <james_ngola2002@maktoob.com>\\nX-Sieve: cmu-sieve 2.0\\nReturn-Path: <james_ngola2002@maktoob.com>\\nMessage-Id: <200210310241.g9V2fNm6028281@cs.CU>\\nFrom: \"MR. JAMES NGOLA.\" <james_ngola2002@maktoob.com>\\nReply-To: james_ngola2002@maktoob.com\\nTo: webmaster@aclweb.org\\nDate: Thu, 31 Oct 2002 02:38:20 +0000\\nSubject: URGENT BUSINESS ASSISTANCE AND PARTNERSHIP\\nX-Mailer: Microsoft Outlook Express 5.00.2919.6900 DM\\nMIME-Version: 1.0\\nContent-Type: text/plain; charset=\"us-ascii\"\\nContent-Transfer-Encoding: 8bit\\nX-MIME-Autoconverted: from quoted-printable to 8bit by sideshowmel.si.UM id g9V2foW24311\\nStatus: O\\n\\nFROM:MR. JAMES NGOLA.\\nCONFIDENTIAL TEL: 233-27-587908.\\nE-MAIL: (james_ngola2002@maktoob.com).\\n\\nURGENT BUSINESS ASSISTANCE AND PARTNERSHIP.\\n\\n\\nDEAR FRIEND,\\n\\nI AM ( DR.) JAMES NGOLA, THE PERSONAL ASSISTANCE TO THE LATE CONGOLESE (PRESIDENT LAURENT KABILA) WHO WAS ASSASSINATED BY HIS BODY GUARD ON 16TH JAN. 2001.\\n\\n\\nTHE INCIDENT OCCURRED IN OUR PRESENCE WHILE WE WERE HOLDING MEETING WITH HIS EXCELLENCY OVER THE FINANCIAL RETURNS FROM THE DIAMOND SALES IN THE AREAS CONTROLLED BY (D.R.C.) DEMOCRATIC REPUBLIC OF CONGO FORCES AND THEIR FOREIGN ALLIES ANGOLA AND ZIMBABWE, HAVING RECEIVED THE PREVIOUS DAY (USD$100M) ONE HUNDRED MILLION UNITED STATES DOLLARS, CASH IN THREE DIPLOMATIC BOXES ROUTED THROUGH ZIMBABWE.\\n\\nMY PURPOSE OF WRITING YOU THIS LETTER IS TO SOLICIT FOR YOUR ASSISTANCE AS TO BE A COVER TO THE FUND AND ALSO COLLABORATION IN MOVING THE SAID FUND INTO YOUR BANK ACCOUNT THE SUM OF (USD$25M) TWENTY FIVE MILLION UNITED STATES DOLLARS ONLY, WHICH I DEPOSITED WITH A SECURITY COMPANY IN GHANA, IN A DIPLOMATIC BOX AS GOLDS WORTH (USD$25M) TWENTY FIVE MILLION UNITED STATES DOLLARS ONLY FOR SAFE KEEPING IN A SECURITY VAULT FOR ANY FURTHER INVESTMENT PERHAPS IN YOUR COUNTRY. \\n\\nYOU WERE INTRODUCED TO ME BY A RELIABLE FRIEND OF MINE WHO IS A TRAVELLER,AND ALSO A MEMBER OF CHAMBER OF COMMERCE AS A RELIABLE AND TRUSTWORTHY PERSON WHOM I CAN RELY ON AS FOREIGN PARTNER, EVEN THOUGH THE NATURE OF THE TRANSACTION WAS NOT REVEALED TO HIM FOR SECURITY REASONS.\\n\\n\\nTHE (USD$25M) WAS PART OF A PROCEEDS FROM DIAMOND TRADE MEANT FOR THE LATE PRESIDENT LAURENT KABILA WHICH WAS DELIVERED THROUGH ZIMBABWE IN DIPLOMATIC BOXES. THE BOXES WERE KEPT UNDER MY CUSTODY BEFORE THE SAD EVENT THAT TOOK THE LIFE OF (MR. PRESIDENT).THE CONFUSION THAT ENSUED AFTER THE ASSASSINATION AND THE SPORADIC SHOOTING AMONG THE FACTIONS, I HAVE TO RUN AWAY FROM THE COUNTRY FOR MY DEAR LIFE AS I AM NOT A SOLDIER BUT A CIVIL SERVANT I CROSSED RIVER CONGO TO OTHER SIDE OF CONGO LIBREVILLE FROM THERE I MOVED TO THE THIRD COUNTRY GHANA WHERE I AM PRESENTLY TAKING REFUGE. \\n\\nAS A MATTER OF FACT, WHAT I URGENTLY NEEDED FROM YOU IS YOUR ASSISTANCE IN MOVING THIS MONEY INTO YOUR ACCOUNT IN YOUR COUNTRY FOR INVESTMENT WITHOUT RAISING EYEBROW. FOR YOUR ASSISTANCE I WILL GIVE YOU 20% OF THE TOTAL SUM AS YOUR OWN SHARE WHEN THE MONEY GETS TO YOUR ACCOUNT, WHILE 75% WILL BE FOR ME, OF WHICH WITH YOUR KIND ADVICE I HOPE TO INVEST IN PROFITABLE VENTURE IN YOUR COUNTRY IN OTHER TO SETTLE DOWN FOR MEANINGFUL LIFE, AS I AM TIRED OF LIVING IN A WAR ENVIRONMENT. \\n\\nTHE REMAINING 5% WILL BE USED TO OFFSET ANY COST INCURRED IN THE CAUSE OF MOVING THE MONEY TO YOUR ACCOUNT. IF THE PROPOSAL IS ACCEPTABLE TO YOU PLEASE CONTACT ME IMMEDIATELY THROUGH THE ABOVE TELEPHONE AND E-MAIL, TO ENABLE ME ARRANGE FACE TO FACE MEETING WITH YOU IN GHANA FOR THE CLEARANCE OF THE FUNDS BEFORE TRANSFRING IT TO YOUR BANK ACCOUNT AS SEEING IS BELIEVING. \\n\\nFINALLY, IT IS IMPORTANT ALSO THAT I LET YOU UNDERSTAND THAT THERE IS NO RISK INVOLVED WHATSOEVER AS THE MONEY HAD NO RECORD IN KINSHASA FOR IT WAS MEANT FOR THE PERSONAL USE OF (MR. PRESIDEND ) BEFORE THE NEFARIOUS INCIDENT OCCURRED, AND ALSO I HAVE ALL THE NECESSARY DOCUMENTS AS REGARDS TO THE FUNDS INCLUDING THE (CERTIFICATE OF DEPOSIT), AS I AM THE DEPOSITOR OF THE CONSIGNMENT.\\n\\n\\nLOOKING FORWARD TO YOUR URGENT RESPONSE.\\n\\nYOUR SINCERELY,\\n\\nMR. JAMES NGOLA. \\n\\n\\n\\n\\n\\n\\n\\n\\n\\n\\nFrom r  Thu Oct 31 08:11:39 2002\\nReturn-Path: <bensul2004nng@spinfinder.com>\\nX-Sieve: cmu-sieve 2.0\\nReturn-Path: <bensul2004nng@spinfinder.com>\\nMessage-Id: <200210311310.g9VDANt24674@bloodwork.mr.itd.UM>\\nFrom: \"Mr. Ben Suleman\" <bensul2004nng@spinfinder.com>\\nDate: Thu, 31 Oct 2002 05:10:00\\nTo: R@M\\nSubject: URGENT ASSISTANCE /RELATIONSHIP (P)\\nMIME-Version: 1.0\\nContent-Type: text/plain;charset=\"iso-8859-1\"\\nContent-Transfer-Encoding: 7bit\\nStatus: O\\n\\nDear Friend,\\n\\nI am Mr. Ben Suleman a custom officer and work as Assistant controller of the Customs and Excise department Of the Federal Ministry of Internal Affairs stationed at the Murtala Mohammed International Airport, Ikeja, Lagos-Nigeria.\\n\\nAfter the sudden death of the former Head of state of Nigeria General Sanni Abacha on June 8th 1998 his aides and immediate members of his family were arrested while trying to escape from Nigeria in a Chartered jet to Saudi Arabia with 6 trunk boxes Marked \"Diplomatic Baggage\". Acting on a tip-off as they attempted to board the Air Craft,my officials carried out a thorough search on the air craft and discovered that the 6 trunk boxes contained foreign currencies amounting to US$197,570,000.00(One Hundred and  Ninety-Seven Million Five Hundred Seventy Thousand United States Dollars).\\n\\nI declared only (5) five boxes to the government and withheld one (1) in my custody containing the sum of (US$30,000,000.00) Thirty Million United States Dollars Only, which has been disguised to prevent their being discovered during transportation process.Due to several media reports on the late head of state about all the money him and his co-government officials stole from our government treasury amounting\\nto US$55 Billion Dollars (ref:ngrguardiannews.com) of July 2nd 1999. Even the London times of July 1998 reported that General Abacha has over US$3.Billion dollars in one account overseas. We decided to conceal this one (1)box till the situation is calm and quite on the issue. The box was thus deposited with a security company here in Nigeria and tagged as \"Precious Stones and Jewellry\" in other that its\\ncontent will not be discovered. Now that all is calm, we (myself and two of my colleagues in the operations team) are now ready to move this box out of the country through a diplomatic arrangement which is the safest means. \\n\\nHowever as government officials the Civil Service Code of Conduct does not allow us by law to operate any foreign account or own foreign investment and the amount of money that can be found in our account\\ncannot be more than our salary on the average, thus our handicapp and our need for your assistance to help collect and keep safely in your account this money.\\n\\nTherefore we want you to assist us in moving this money out of Nigeria. We shall definitely compensate you handsomely for the assistance. We can do this by instructing the Security Company here in Nigeria to\\nmove the consignment to their affiliate branch office outside Nigeria through diplomatic means and the consignment will be termed as Precious Stones and Jewelleries\" which you bought during your visit to Nigeria and is being transfered to your country from here for safe keeping. Then we can arrange to meet at the destination country to take the delivery of the consignment. You will thereafter open an account there and lodge the Money there and gradually instruct remittance to your Country. \\n\\nThis business is 100% risk free for you so please treat this matter with utmost confidentiality .If you indicate your interest to assist us please just e-mail me for more Explanation on how we plan to execute the transaction.\\n\\nExpecting your response urgently.\\n\\nBest regards,\\n\\nMr. Ben Suleman\\n\\nFrom r  Thu Oct 31 17:27:16 2002\\nReturn-Path: <obong_715@epatra.com>\\nX-Sieve: cmu-sieve 2.0\\nReturn-Path: <obong_715@epatra.com>\\nMessage-Id: <200210312227.g9VMQvDj017948@bluewhale.cs.CU>\\nFrom: \"PRINCE OBONG ELEME\" <obong_715@epatra.com>\\nReply-To: obong_715@epatra.com\\nTo: webmaster@aclweb.org\\nDate: Thu, 31 Oct 2002 22:17:55 +0100\\nSubject: GOOD DAY TO YOU\\nX-Mailer: Microsoft Outlook Express 5.00.2919.6900DM\\nMIME-Version: 1.0\\nContent-Type: text/plain; charset=\"us-ascii\"\\nContent-Transfer-Encoding: 8bit\\nX-MIME-Autoconverted: from quoted-printable to 8bit by sideshowmel.si.UM id g9VMRBW20642\\nStatus: RO\\n\\nFROM HIS ROYAL MAJESTY (HRM) CROWN RULER OF ELEME KINGDOM \\nCHIEF DANIEL ELEME, PHD, EZE 1 OF ELEME.E-MAIL \\nADDRESS:obong_715@epatra.com  \\n\\nATTENTION:PRESIDENT,CEO Sir/ Madam. \\n\\nThis letter might surprise you because we have met\\nneither in person nor by correspondence. But I believe\\nit is one day that you got to know somebody either in\\nphysical or through correspondence. \\n\\nI got your contact through discreet inquiry from the\\nchambers of commerce and industry of your country on\\nthe net, you and your organization were revealed as\\nbeing quite astute in private entrepreneurship, one\\nhas no doubt in your ability to handle a financialbusiness transaction. \\n\\nHowever, I am the first son of His Royal\\nmajesty,Obong.D. Eleme , and the traditional Ruler of\\nEleme Province in the oil producing area of River\\nState of Nigeria. I am making this contact to you in\\nrespect of US$60,000,000.00 (Sixty Million United\\nState Dollars), which I inherited, from my latefather. \\n\\nThis money was accumulated from royalties paid to my\\nfather as compensation by the oil firms located in our\\narea as a result of oil presence on our land, which\\nhamper agriculture, which is our major source oflivelihood. \\n\\nUnfortunately my father died from protracted\\ndiabetes.But before his death he called my attention\\nand informed me that he lodged some funds on a two\\nboxes with a security firm with an open beneficiary\\nstatus. The lodgment security code number was also\\nrevealed to me, he then advised me to look for a\\nreliable business partner abroad, that will assist me\\nin investing the money in a lucrative business as a\\nresult of economic instability in Nigeria. So this is\\nthe main reason why I am contacting you for us to move\\nthis money from the security firm to any Country of\\nyour choice for investment purpose. \\n\\nSo I will like you to be the ultimate beneficiary, so\\nthat the funds can be moved in your name and\\nparticulars to any Country of your choice where it\\nwill be claimed and invested. Hence my father have had\\nintimated the security firm personnel that the\\nbeneficiary of the box is his foreign partner whose\\nparticulars will be forwarded to the firm when due. \\n\\nBut I will guide you Accordingly. As soon as the funds\\nreach, I will then come over to meet you in person, so\\nthat we can discuss physically on investment\\npotentials. Based on this assistance my Family and I\\nhave unanimously decided to give you 30% of the total\\nmoney, 5% for Charity home, 10% for expenses, which\\nmay arise during this transaction, Fax and phone bills\\ninclusive. The balance of 55% you will invest andmanaged for my Family. \\n\\nI hereby guarantee you that this is not government\\nmoney, it is not drug money and it is not money from\\narms deal. Though you have to maintain high degree of\\nconfidentiality on this matter. I will give more\\ndetails about the proceedings of this transaction as\\nsoon as I receive your favorable reply. \\n\\nPlease reply to my Email Address:obong_715@epatra.com\\nI hope this will be the beginning of a prosperous\\nrelationship between my family and your family. \\n\\nNevertheless if you are for any reason not interested,\\nkindly inform me immediately so that I will look foranother contact. \\n\\nI am waiting for your quick response. \\n\\nYours faithfully, \\n\\nPrince Obong Abbot \\n'"
      ]
     },
     "execution_count": 4,
     "metadata": {},
     "output_type": "execute_result"
    }
   ],
   "source": [
    "sample_corpus"
   ]
  },
  {
   "cell_type": "markdown",
   "metadata": {
    "colab_type": "text",
    "id": "aUg8HenSBLG2"
   },
   "source": [
    "### 讀取寄件者資訊\n",
    "觀察文本資料可以發現, 寄件者資訊都符合以下格式\n",
    "\n",
    "`From: <收件者姓名> <收件者電子郵件>`"
   ]
  },
  {
   "cell_type": "code",
   "execution_count": 13,
   "metadata": {
    "colab": {},
    "colab_type": "code",
    "id": "YgsUuHsfBLG2"
   },
   "outputs": [
    {
     "data": {
      "text/plain": [
       "['From: \"MR. JAMES NGOLA.\" <james_ngola2002@maktoob.com>',\n",
       " 'From: \"Mr. Ben Suleman\" <bensul2004nng@spinfinder.com>',\n",
       " 'From: \"PRINCE OBONG ELEME\" <obong_715@epatra.com>']"
      ]
     },
     "execution_count": 13,
     "metadata": {},
     "output_type": "execute_result"
    }
   ],
   "source": [
    "import re\n",
    "patter = r'From:.+'\n",
    "match = re.findall(patter, sample_corpus)"
   ]
  },
  {
   "cell_type": "code",
   "execution_count": null,
   "metadata": {
    "colab": {},
    "colab_type": "code",
    "id": "pofRrOGhBLG5",
    "outputId": "28eb134d-2dfa-4743-fae8-1f0abda25968"
   },
   "outputs": [
    {
     "data": {
      "text/plain": [
       "['From: \"MR. JAMES NGOLA.\" <james_ngola2002@maktoob.com>',\n",
       " 'From: \"Mr. Ben Suleman\" <bensul2004nng@spinfinder.com>',\n",
       " 'From: \"PRINCE OBONG ELEME\" <obong_715@epatra.com>']"
      ]
     },
     "execution_count": 16,
     "metadata": {
      "tags": []
     },
     "output_type": "execute_result"
    }
   ],
   "source": [
    "match"
   ]
  },
  {
   "cell_type": "markdown",
   "metadata": {
    "colab_type": "text",
    "id": "Ac8KHAqTBLG7"
   },
   "source": [
    "### 只讀取寄件者姓名"
   ]
  },
  {
   "cell_type": "code",
   "execution_count": 42,
   "metadata": {
    "colab": {},
    "colab_type": "code",
    "id": "coBDE2iBBLG8",
    "outputId": "aada7b60-56bb-45ae-f25f-941218a541c2"
   },
   "outputs": [
    {
     "name": "stdout",
     "output_type": "stream",
     "text": [
      "MR. JAMES NGOLA.\n",
      "Mr. Ben Suleman\n",
      "PRINCE OBONG ELEME\n"
     ]
    }
   ],
   "source": [
    "sender = re.findall( r'From: \"(.+)\"', sample_corpus)\n",
    "for s in sender:\n",
    "    print(s)"
   ]
  },
  {
   "cell_type": "markdown",
   "metadata": {
    "colab_type": "text",
    "id": "gaJefecaBLG-"
   },
   "source": [
    "### 只讀取寄件者電子信箱"
   ]
  },
  {
   "cell_type": "code",
   "execution_count": 43,
   "metadata": {
    "colab": {},
    "colab_type": "code",
    "id": "G55ADKW_BLG_",
    "outputId": "7f3d9657-87b9-4c78-d324-3df919ee84a7"
   },
   "outputs": [
    {
     "name": "stdout",
     "output_type": "stream",
     "text": [
      "james_ngola2002@maktoob.com\n",
      "bensul2004nng@spinfinder.com\n",
      "obong_715@epatra.com\n"
     ]
    }
   ],
   "source": [
    "sendermail = re.findall( r'From: \".+\" <(.+)>', sample_corpus)\n",
    "for s in sendermail:\n",
    "    print(s)"
   ]
  },
  {
   "cell_type": "markdown",
   "metadata": {
    "colab_type": "text",
    "id": "t-RXjNLiBLHC"
   },
   "source": [
    "### 只讀取電子信箱中的寄件機構資訊\n",
    "ex: james_ngola2002@maktoob.com --> 取maktoob"
   ]
  },
  {
   "cell_type": "code",
   "execution_count": 65,
   "metadata": {
    "colab": {},
    "colab_type": "code",
    "id": "qC2Sd6_SBLHC",
    "outputId": "14e4e148-a660-4a15-88ac-e781300c9767"
   },
   "outputs": [
    {
     "name": "stdout",
     "output_type": "stream",
     "text": [
      "['maktoob']\n",
      "['spinfinder']\n",
      "['epatra']\n"
     ]
    }
   ],
   "source": [
    "for m in sendermail:\n",
    "    mailorg = re.findall(r'@(.+).com', m)\n",
    "    print(mailorg)"
   ]
  },
  {
   "cell_type": "markdown",
   "metadata": {
    "colab_type": "text",
    "id": "vfzkuLCWBLHG"
   },
   "source": [
    "### 結合上面的配對方式, 將寄件者的帳號與機構訊返回\n",
    "ex: james_ngola2002@maktoob.com --> [james_ngola2002, maktoob]"
   ]
  },
  {
   "cell_type": "code",
   "execution_count": 66,
   "metadata": {
    "colab": {},
    "colab_type": "code",
    "id": "t3lTRThcBLHG",
    "outputId": "e94f295a-ffa4-4897-dc43-e93991aac20e"
   },
   "outputs": [
    {
     "name": "stdout",
     "output_type": "stream",
     "text": [
      "[('james_ngola2002', 'maktoob')]\n",
      "[('bensul2004nng', 'spinfinder')]\n",
      "[('obong_715', 'epatra')]\n"
     ]
    }
   ],
   "source": [
    "for txt in sendermail:\n",
    "    print(re.findall(r'(.+)@(.+).com',txt))\n",
    "    "
   ]
  },
  {
   "cell_type": "markdown",
   "metadata": {
    "colab_type": "text",
    "id": "Yl-BMduNBLHJ"
   },
   "source": [
    "### 使用正規表達式對email資料進行處理\n",
    "這裡我們會使用到python其他的套件協助處理(ex: pandas, email, etc)，這裡我們只需要專注在正規表達式上即可，其他的套件是方便我們整理與處理資料。"
   ]
  },
  {
   "cell_type": "markdown",
   "metadata": {
    "colab_type": "text",
    "id": "kqCacQ9tBLHJ"
   },
   "source": [
    "### 讀取與切分Email\n",
    "讀入的email為一個長字串，利用正規表達式切割讀入的資料成一封一封的email，並將結果以list表示。\n",
    "\n",
    "輸出: [email_1, email_2, email_3, ....]"
   ]
  },
  {
   "cell_type": "code",
   "execution_count": 74,
   "metadata": {
    "colab": {},
    "colab_type": "code",
    "id": "k9BCVTqoBLHK",
    "outputId": "656ffc81-cb9b-4174-8511-9013985c4cad"
   },
   "outputs": [
    {
     "data": {
      "text/plain": [
       "3977"
      ]
     },
     "execution_count": 74,
     "metadata": {},
     "output_type": "execute_result"
    }
   ],
   "source": [
    "import re\n",
    "import pandas as pd\n",
    "import email\n",
    "\n",
    "###讀取文本資料:fradulent_emails.txt###\n",
    "f = open('all_emails.txt', 'r', encoding='windows-1252')\n",
    "email_corpus = f.read()\n",
    "f.close()\n",
    "    \n",
    "###切割讀入的資料成一封一封的email###\n",
    "###我們可以使用list來儲存每一封email###\n",
    "###注意！這裡請仔細觀察sample資料，看資料是如何切分不同email###\n",
    "emails = re.split(r'From r.+\\n', email_corpus)\n",
    "emails = emails[1:] #分割後第一個是空白，將其移除\n",
    "len(emails) #查看有多少封email"
   ]
  },
  {
   "cell_type": "markdown",
   "metadata": {
    "colab_type": "text",
    "id": "e9IN-2o0BLHM"
   },
   "source": [
    "### 從文本中擷取所有寄件者與收件者的姓名和地址"
   ]
  },
  {
   "cell_type": "code",
   "execution_count": 120,
   "metadata": {
    "colab": {},
    "colab_type": "code",
    "id": "d_WRYFpcBLHM"
   },
   "outputs": [],
   "source": [
    "emails_list = [] #創建空list來儲存所有email資訊\n",
    "\n",
    "for mail in emails[1000:1020]: #只取前20筆資料 (處理速度比較快)\n",
    "    emails_dict = dict() #創建空字典儲存資訊\n",
    "    ###取的寄件者姓名與地址###\n",
    "    \n",
    "    try:\n",
    "        \n",
    "        #Step1: 取的寄件者資訊 (hint: From:)\n",
    "        sender = re.search(r'From:.+', mail).group()\n",
    "\n",
    "        #Step2: 取的姓名與地址 (hint: 要注意有時會有沒取到配對的情況)\n",
    "        SenderName = re.findall(r'From:\\s(\"?.*\"?)\\s?<?\\w*@\\w*\\.\\w*>?', sender)\n",
    "        SenderEmail = re.findall(r'\\s?<?(\\w*@\\w*\\.\\w*)>?', sender)\n",
    "\n",
    "        #Step3: 將取得的姓名與地址存入字典中\n",
    "        if (len(SenderName) > 0):\n",
    "            emails_dict[\"SenderName\"] = SenderName[0]\n",
    "        else:\n",
    "            emails_dict[\"SenderName\"] = None\n",
    "\n",
    "\n",
    "        if (len(SenderEmail) > 0):\n",
    "            emails_dict[\"SenderEmail\"] = SenderEmail[0]\n",
    "        else:\n",
    "            emails_dict[\"SenderEmail\"] = None\n",
    "    except:\n",
    "        emails_dict[\"SenderName\"] = None\n",
    "        emails_dict[\"SenderEmail\"] = None\n",
    "\n",
    "    ###取的收件者姓名與地址###\n",
    "    #Step1: 取的寄件者資訊 (hint: To:)\n",
    "    \n",
    "    \n",
    "    #Step2: 取的姓名與地址 (hint: 要注意有時會有沒取到配對的情況)\n",
    "    # 只有取得email\n",
    "    recipient = re.findall(r'.*To: (.*)', mail)\n",
    "        \n",
    "    #Step3: 將取得的姓名與地址存入字典中\n",
    "    emails_dict[\"recipientEmail\"] = recipient\n",
    "        \n",
    "        \n",
    "    ###取得信件日期###\n",
    "    #Step1: 取得日期資訊 (hint: To:)\n",
    "    #<your code>#\n",
    "    \n",
    "    #Step2: 取得詳細日期(只需取得DD MMM YYYY)\n",
    "    try: \n",
    "        SentDate = re.findall(r'Date: .* (\\d{1,2} \\w{3} \\d{4})', mail)[0]\n",
    "    except:\n",
    "        SentDate = None\n",
    "        \n",
    "    #Step3: 將取得的日期資訊存入字典中\n",
    "    emails_dict[\"Date\"] = SentDate\n",
    "        \n",
    "        \n",
    "    ###取得信件主旨###\n",
    "    #Step1: 取得主旨資訊 (hint: Subject:)\n",
    "    try:\n",
    "        subject = re.findall(r'Subject: (.*)', mail)[0]\n",
    "    except:\n",
    "        subject = None\n",
    "    \n",
    "    #Step2: 移除不必要文字 (hint: Subject: )\n",
    "    #<your code>#\n",
    "    \n",
    "    #Step3: 將取得的主旨存入字典中\n",
    "    emails_dict[\"Subject\"] = subject\n",
    "    \n",
    "    \n",
    "    ###取得信件內文###\n",
    "    #這裡我們使用email package來取出email內文 (可以不需深究，本章節重點在正規表達式)\n",
    "    try:\n",
    "        full_email = email.message_from_string(mail)\n",
    "        body = full_email.get_payload()\n",
    "        emails_dict[\"email_body\"] = body\n",
    "    except:\n",
    "        emails_dict[\"email_body\"] = None\n",
    "    \n",
    "    ###將字典加入list###\n",
    "    emails_list.append(emails_dict)\n",
    "\n"
   ]
  },
  {
   "cell_type": "code",
   "execution_count": 121,
   "metadata": {
    "colab": {},
    "colab_type": "code",
    "id": "CBfQRiYPBLHP"
   },
   "outputs": [
    {
     "data": {
      "text/html": [
       "<div>\n",
       "<style scoped>\n",
       "    .dataframe tbody tr th:only-of-type {\n",
       "        vertical-align: middle;\n",
       "    }\n",
       "\n",
       "    .dataframe tbody tr th {\n",
       "        vertical-align: top;\n",
       "    }\n",
       "\n",
       "    .dataframe thead th {\n",
       "        text-align: right;\n",
       "    }\n",
       "</style>\n",
       "<table border=\"1\" class=\"dataframe\">\n",
       "  <thead>\n",
       "    <tr style=\"text-align: right;\">\n",
       "      <th></th>\n",
       "      <th>SenderName</th>\n",
       "      <th>SenderEmail</th>\n",
       "      <th>recipientEmail</th>\n",
       "      <th>Date</th>\n",
       "      <th>Subject</th>\n",
       "      <th>email_body</th>\n",
       "    </tr>\n",
       "  </thead>\n",
       "  <tbody>\n",
       "    <tr>\n",
       "      <td>0</td>\n",
       "      <td>jamestshabalala</td>\n",
       "      <td>jamestshabalala@netscape.net</td>\n",
       "      <td>[jamestshabalala@netscape.net]</td>\n",
       "      <td>15 Jul 2004</td>\n",
       "      <td>URGENT RESPONSE</td>\n",
       "      <td>FROM:MR JAMES TSHABALALA\\nTEL:+ 27-83-424-7661...</td>\n",
       "    </tr>\n",
       "    <tr>\n",
       "      <td>1</td>\n",
       "      <td>\"SAMSON K.MANI\" &lt;samson_k_mani01</td>\n",
       "      <td>samson_k_mani01@voila.fr</td>\n",
       "      <td>[samson_k_mani02@voila.fr]</td>\n",
       "      <td>16 Jul 2004</td>\n",
       "      <td>BUSINESS PROPOSAL</td>\n",
       "      <td>Dear Sir=2C \\nI know that this proposal letter...</td>\n",
       "    </tr>\n",
       "    <tr>\n",
       "      <td>2</td>\n",
       "      <td>\"Mr frank\" &lt;frank13_</td>\n",
       "      <td>frank13_@mailsurf.com</td>\n",
       "      <td>[frank2@mailsurf.com, R@M]</td>\n",
       "      <td>16 Jul 2004</td>\n",
       "      <td>Request for assistance Next of kin Claims</td>\n",
       "      <td>&gt;From The Desk of Independent Committee of \\nE...</td>\n",
       "    </tr>\n",
       "    <tr>\n",
       "      <td>3</td>\n",
       "      <td>\"oliver\"&lt;oliverfpaul</td>\n",
       "      <td>oliverfpaul@aib.com</td>\n",
       "      <td>[R@E, feltop11@starmail.co.za, ofpaul6@yahoo.com]</td>\n",
       "      <td>19 Jul 2004</td>\n",
       "      <td>None</td>\n",
       "      <td>=20\\n\\n=20\\nMy name i...</td>\n",
       "    </tr>\n",
       "    <tr>\n",
       "      <td>4</td>\n",
       "      <td>\"oliver\"&lt;oliverfpaul</td>\n",
       "      <td>oliverfpaul@aib.com</td>\n",
       "      <td>[R@E, feltop11@starmail.co.za, ofpaul6@yahoo.com]</td>\n",
       "      <td>19 Jul 2004</td>\n",
       "      <td>None</td>\n",
       "      <td>=20\\n\\n=20\\nMy name i...</td>\n",
       "    </tr>\n",
       "    <tr>\n",
       "      <td>5</td>\n",
       "      <td>\"Terry\" &lt;gimlabpnuipfi</td>\n",
       "      <td>gimlabpnuipfi@rocketmail.com</td>\n",
       "      <td>[\"Joey\" &lt;R@M&gt;]</td>\n",
       "      <td>20 Jul 2004</td>\n",
       "      <td>business proposal</td>\n",
       "      <td>&lt;HTML&gt;&lt;html&gt;\\n&lt;body&gt;\\nDear Fr&lt;!ar&gt;ie&lt;!me&gt;nd,&lt;B...</td>\n",
       "    </tr>\n",
       "    <tr>\n",
       "      <td>6</td>\n",
       "      <td>sitholebaloy</td>\n",
       "      <td>sitholebaloy@netscape.net</td>\n",
       "      <td>[sitholebaloy@netscape.net]</td>\n",
       "      <td>21 Jul 2004</td>\n",
       "      <td>|||||||| ASKING FOR YOUR ASSISTANCE (FOR US$21...</td>\n",
       "      <td>\\nFROM: BALOY SITHOLE.\\nTELL: 27-835-184-080\\n...</td>\n",
       "    </tr>\n",
       "    <tr>\n",
       "      <td>7</td>\n",
       "      <td>sitholebaloy</td>\n",
       "      <td>sitholebaloy@netscape.net</td>\n",
       "      <td>[sitholebaloy@netscape.net]</td>\n",
       "      <td>21 Jul 2004</td>\n",
       "      <td>|||||||| ASKING FOR YOUR ASSISTANCE (FOR US$21...</td>\n",
       "      <td>\\nFROM: BALOY SITHOLE.\\nTELL: 27-835-184-080\\n...</td>\n",
       "    </tr>\n",
       "    <tr>\n",
       "      <td>8</td>\n",
       "      <td>sitholebaloy</td>\n",
       "      <td>sitholebaloy@netscape.net</td>\n",
       "      <td>[sitholebaloy@netscape.net]</td>\n",
       "      <td>21 Jul 2004</td>\n",
       "      <td>|||||||| ASKING FOR YOUR ASSISTANCE (FOR US$21...</td>\n",
       "      <td>\\nFROM: BALOY SITHOLE.\\nTELL: 27-835-184-080\\n...</td>\n",
       "    </tr>\n",
       "    <tr>\n",
       "      <td>9</td>\n",
       "      <td>\"yaya\" &lt;dr_tyh</td>\n",
       "      <td>dr_tyh@hotmail.com</td>\n",
       "      <td>[thomas-nimely@lycos.es, R@M]</td>\n",
       "      <td>21 Jul 2004</td>\n",
       "      <td>IN GOD WE TRUST</td>\n",
       "      <td>Dearest=2C\\n\\nI am Chief Thomas Nimely yaya=2C...</td>\n",
       "    </tr>\n",
       "    <tr>\n",
       "      <td>10</td>\n",
       "      <td>\"yaya\" &lt;dr_tyh</td>\n",
       "      <td>dr_tyh@hotmail.com</td>\n",
       "      <td>[thomas-nimely@lycos.es, webmaster@aclweb.org]</td>\n",
       "      <td>21 Jul 2004</td>\n",
       "      <td>IN GOD WE TRUST</td>\n",
       "      <td>Dearest,\\n\\nI am Chief Thomas Nimely yaya, cha...</td>\n",
       "    </tr>\n",
       "    <tr>\n",
       "      <td>11</td>\n",
       "      <td>\"sessay massaquoe\" &lt;sessay1_7o2.pl</td>\n",
       "      <td>pl@seeqmail.com</td>\n",
       "      <td>[sessay1@di-ve.com, undisclosed-recipients:;]</td>\n",
       "      <td>21 Jul 2004</td>\n",
       "      <td>A CRY FOR HELP.</td>\n",
       "      <td>\\nDEAR FRIEND,\\n\\n     GREETINGS TO YOU, WITH ...</td>\n",
       "    </tr>\n",
       "    <tr>\n",
       "      <td>12</td>\n",
       "      <td>\"sessay massaquoe\" &lt;sessay1_7o2.pl</td>\n",
       "      <td>pl@seeqmail.com</td>\n",
       "      <td>[sessay1@di-ve.com, undisclosed-recipients: ;]</td>\n",
       "      <td>21 Jul 2004</td>\n",
       "      <td>A CRY FOR HEP.</td>\n",
       "      <td>\\nDEAR FRIEND,\\n\\n     GREETINGS TO YOU, WITH ...</td>\n",
       "    </tr>\n",
       "    <tr>\n",
       "      <td>13</td>\n",
       "      <td>\"sessay massaquoe\" &lt;sessay1_7o2.pl</td>\n",
       "      <td>pl@seeqmail.com</td>\n",
       "      <td>[sessay1@di-ve.com, undisclosed-recipients:;]</td>\n",
       "      <td>21 Jul 2004</td>\n",
       "      <td>A CRY FOR HEP.</td>\n",
       "      <td>\\nDEAR FRIEND,\\n\\n     GREETINGS TO YOU, WITH ...</td>\n",
       "    </tr>\n",
       "    <tr>\n",
       "      <td>14</td>\n",
       "      <td>\"Paul Jacksoncole.\" &lt;mrp_jack</td>\n",
       "      <td>mrp_jack@bankersmail.com</td>\n",
       "      <td>[linguists@UM]</td>\n",
       "      <td>22 Jul 2004</td>\n",
       "      <td>CAN WE DO THIS TOGETHER.</td>\n",
       "      <td>Compliments of the day, \\n\\nMy name is Paul Ja...</td>\n",
       "    </tr>\n",
       "    <tr>\n",
       "      <td>15</td>\n",
       "      <td>\"BAR.MYKE UTAKI\" &lt;attorneymyke</td>\n",
       "      <td>attorneymyke@justice.com</td>\n",
       "      <td>[R@M, s_agud22@weedmail.com]</td>\n",
       "      <td>22 Jul 2004</td>\n",
       "      <td>URGENT PROPOSAL</td>\n",
       "      <td>[[Content-Type, Content-Transfer-Encoding]]</td>\n",
       "    </tr>\n",
       "    <tr>\n",
       "      <td>16</td>\n",
       "      <td>None</td>\n",
       "      <td>None</td>\n",
       "      <td>[info@hamelyear.com]</td>\n",
       "      <td>None</td>\n",
       "      <td>VERY URGENT PLEASE</td>\n",
       "      <td>[[Content-Type], [Content-Type]]</td>\n",
       "    </tr>\n",
       "    <tr>\n",
       "      <td>17</td>\n",
       "      <td>None</td>\n",
       "      <td>None</td>\n",
       "      <td>[info@hamelyear.com]</td>\n",
       "      <td>None</td>\n",
       "      <td>VERY URGENT PLEASE</td>\n",
       "      <td>[[Content-Type], [Content-Type]]</td>\n",
       "    </tr>\n",
       "    <tr>\n",
       "      <td>18</td>\n",
       "      <td>xiao gang &lt;xg2004</td>\n",
       "      <td>xg2004@ofir.dk</td>\n",
       "      <td>[undisclosed-recipients:;]</td>\n",
       "      <td>24 Jul 2004</td>\n",
       "      <td>GOODDAY TO YOU!!!</td>\n",
       "      <td>FROM THE DESK OF:\\nMR XIAO GANG,\\nBANK OF OVER...</td>\n",
       "    </tr>\n",
       "    <tr>\n",
       "      <td>19</td>\n",
       "      <td>\"Tony\" &lt;zlblzm</td>\n",
       "      <td>zlblzm@sohu.com</td>\n",
       "      <td>[webmaster@aclweb.org, zlblzm@sohu.com]</td>\n",
       "      <td>24 Jul 2004</td>\n",
       "      <td>Seeking joint-venture partners for ERW oil cas...</td>\n",
       "      <td>Dear Sir or Madam:\\n\\nWe are keenly interested...</td>\n",
       "    </tr>\n",
       "  </tbody>\n",
       "</table>\n",
       "</div>"
      ],
      "text/plain": [
       "                            SenderName                   SenderEmail  \\\n",
       "0                      jamestshabalala  jamestshabalala@netscape.net   \n",
       "1     \"SAMSON K.MANI\" <samson_k_mani01      samson_k_mani01@voila.fr   \n",
       "2                 \"Mr frank\" <frank13_         frank13_@mailsurf.com   \n",
       "3                 \"oliver\"<oliverfpaul           oliverfpaul@aib.com   \n",
       "4                 \"oliver\"<oliverfpaul           oliverfpaul@aib.com   \n",
       "5               \"Terry\" <gimlabpnuipfi  gimlabpnuipfi@rocketmail.com   \n",
       "6                         sitholebaloy     sitholebaloy@netscape.net   \n",
       "7                         sitholebaloy     sitholebaloy@netscape.net   \n",
       "8                         sitholebaloy     sitholebaloy@netscape.net   \n",
       "9                       \"yaya\" <dr_tyh            dr_tyh@hotmail.com   \n",
       "10                      \"yaya\" <dr_tyh            dr_tyh@hotmail.com   \n",
       "11  \"sessay massaquoe\" <sessay1_7o2.pl               pl@seeqmail.com   \n",
       "12  \"sessay massaquoe\" <sessay1_7o2.pl               pl@seeqmail.com   \n",
       "13  \"sessay massaquoe\" <sessay1_7o2.pl               pl@seeqmail.com   \n",
       "14       \"Paul Jacksoncole.\" <mrp_jack      mrp_jack@bankersmail.com   \n",
       "15      \"BAR.MYKE UTAKI\" <attorneymyke      attorneymyke@justice.com   \n",
       "16                                None                          None   \n",
       "17                                None                          None   \n",
       "18                   xiao gang <xg2004                xg2004@ofir.dk   \n",
       "19                      \"Tony\" <zlblzm               zlblzm@sohu.com   \n",
       "\n",
       "                                       recipientEmail         Date  \\\n",
       "0                      [jamestshabalala@netscape.net]  15 Jul 2004   \n",
       "1                          [samson_k_mani02@voila.fr]  16 Jul 2004   \n",
       "2                          [frank2@mailsurf.com, R@M]  16 Jul 2004   \n",
       "3   [R@E, feltop11@starmail.co.za, ofpaul6@yahoo.com]  19 Jul 2004   \n",
       "4   [R@E, feltop11@starmail.co.za, ofpaul6@yahoo.com]  19 Jul 2004   \n",
       "5                                      [\"Joey\" <R@M>]  20 Jul 2004   \n",
       "6                         [sitholebaloy@netscape.net]  21 Jul 2004   \n",
       "7                         [sitholebaloy@netscape.net]  21 Jul 2004   \n",
       "8                         [sitholebaloy@netscape.net]  21 Jul 2004   \n",
       "9                       [thomas-nimely@lycos.es, R@M]  21 Jul 2004   \n",
       "10     [thomas-nimely@lycos.es, webmaster@aclweb.org]  21 Jul 2004   \n",
       "11      [sessay1@di-ve.com, undisclosed-recipients:;]  21 Jul 2004   \n",
       "12     [sessay1@di-ve.com, undisclosed-recipients: ;]  21 Jul 2004   \n",
       "13      [sessay1@di-ve.com, undisclosed-recipients:;]  21 Jul 2004   \n",
       "14                                     [linguists@UM]  22 Jul 2004   \n",
       "15                       [R@M, s_agud22@weedmail.com]  22 Jul 2004   \n",
       "16                               [info@hamelyear.com]         None   \n",
       "17                               [info@hamelyear.com]         None   \n",
       "18                         [undisclosed-recipients:;]  24 Jul 2004   \n",
       "19            [webmaster@aclweb.org, zlblzm@sohu.com]  24 Jul 2004   \n",
       "\n",
       "                                              Subject  \\\n",
       "0                                    URGENT RESPONSE    \n",
       "1                                   BUSINESS PROPOSAL   \n",
       "2           Request for assistance Next of kin Claims   \n",
       "3                                                None   \n",
       "4                                                None   \n",
       "5                                   business proposal   \n",
       "6   |||||||| ASKING FOR YOUR ASSISTANCE (FOR US$21...   \n",
       "7   |||||||| ASKING FOR YOUR ASSISTANCE (FOR US$21...   \n",
       "8   |||||||| ASKING FOR YOUR ASSISTANCE (FOR US$21...   \n",
       "9                                     IN GOD WE TRUST   \n",
       "10                                    IN GOD WE TRUST   \n",
       "11                                    A CRY FOR HELP.   \n",
       "12                                     A CRY FOR HEP.   \n",
       "13                                     A CRY FOR HEP.   \n",
       "14                           CAN WE DO THIS TOGETHER.   \n",
       "15                                    URGENT PROPOSAL   \n",
       "16                                 VERY URGENT PLEASE   \n",
       "17                                 VERY URGENT PLEASE   \n",
       "18                                  GOODDAY TO YOU!!!   \n",
       "19  Seeking joint-venture partners for ERW oil cas...   \n",
       "\n",
       "                                           email_body  \n",
       "0   FROM:MR JAMES TSHABALALA\\nTEL:+ 27-83-424-7661...  \n",
       "1   Dear Sir=2C \\nI know that this proposal letter...  \n",
       "2   >From The Desk of Independent Committee of \\nE...  \n",
       "3                            =20\\n\\n=20\\nMy name i...  \n",
       "4                            =20\\n\\n=20\\nMy name i...  \n",
       "5   <HTML><html>\\n<body>\\nDear Fr<!ar>ie<!me>nd,<B...  \n",
       "6   \\nFROM: BALOY SITHOLE.\\nTELL: 27-835-184-080\\n...  \n",
       "7   \\nFROM: BALOY SITHOLE.\\nTELL: 27-835-184-080\\n...  \n",
       "8   \\nFROM: BALOY SITHOLE.\\nTELL: 27-835-184-080\\n...  \n",
       "9   Dearest=2C\\n\\nI am Chief Thomas Nimely yaya=2C...  \n",
       "10  Dearest,\\n\\nI am Chief Thomas Nimely yaya, cha...  \n",
       "11  \\nDEAR FRIEND,\\n\\n     GREETINGS TO YOU, WITH ...  \n",
       "12  \\nDEAR FRIEND,\\n\\n     GREETINGS TO YOU, WITH ...  \n",
       "13  \\nDEAR FRIEND,\\n\\n     GREETINGS TO YOU, WITH ...  \n",
       "14  Compliments of the day, \\n\\nMy name is Paul Ja...  \n",
       "15        [[Content-Type, Content-Transfer-Encoding]]  \n",
       "16                   [[Content-Type], [Content-Type]]  \n",
       "17                   [[Content-Type], [Content-Type]]  \n",
       "18  FROM THE DESK OF:\\nMR XIAO GANG,\\nBANK OF OVER...  \n",
       "19  Dear Sir or Madam:\\n\\nWe are keenly interested...  "
      ]
     },
     "execution_count": 121,
     "metadata": {},
     "output_type": "execute_result"
    }
   ],
   "source": [
    "#將處理結果轉化為dataframe\n",
    "emails_df = pd.DataFrame(emails_list)\n",
    "emails_df"
   ]
  }
 ],
 "metadata": {
  "colab": {
   "name": "Python_regular_expression_作業.ipynb",
   "provenance": []
  },
  "kernelspec": {
   "display_name": "Python 3",
   "language": "python",
   "name": "python3"
  },
  "language_info": {
   "codemirror_mode": {
    "name": "ipython",
    "version": 3
   },
   "file_extension": ".py",
   "mimetype": "text/x-python",
   "name": "python",
   "nbconvert_exporter": "python",
   "pygments_lexer": "ipython3",
   "version": "3.7.4"
  }
 },
 "nbformat": 4,
 "nbformat_minor": 1
}
